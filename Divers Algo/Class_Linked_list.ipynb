{
 "cells": [
  {
   "cell_type": "code",
   "execution_count": 3,
   "id": "b0b5fb3a",
   "metadata": {},
   "outputs": [
    {
     "name": "stdout",
     "output_type": "stream",
     "text": [
      "7\n"
     ]
    }
   ],
   "source": [
    "class Node:\n",
    "    def __init__(self, value,next):\n",
    "        self.value = value\n",
    "        self.next = None\n",
    "\n",
    "    def show(self):\n",
    "        print(self.value)\n",
    "\n",
    "n1=node(3)\n",
    "n2=node(7)\n",
    "n3=node(12)\n",
    "n2.show()"
   ]
  },
  {
   "cell_type": "code",
   "execution_count": 4,
   "id": "59e011a9",
   "metadata": {},
   "outputs": [],
   "source": [
    "class FreeMenList:\n",
    "    def __init__(self):\n",
    "        self.head = None\n",
    "        self.tail = None\n",
    "\n",
    "    def append(self, value):\n",
    "        \"\"\"Ajouter un homme libre à la fin\"\"\"\n",
    "        new_node = Node(value)\n",
    "        if not self.head:\n",
    "            self.head = self.tail = new_node\n",
    "        else:\n",
    "            self.tail.next = new_node\n",
    "            self.tail = new_node\n",
    "\n",
    "    def pop_first(self):\n",
    "        \"\"\"Retirer et retourner le premier homme libre\"\"\"\n",
    "        if not self.head:\n",
    "            return None\n",
    "        value = self.head.value\n",
    "        self.head = self.head.next\n",
    "        if not self.head:\n",
    "            self.tail = None\n",
    "        return value\n",
    "\n",
    "    def __iter__(self):\n",
    "        \"\"\"Permet de parcourir la liste\"\"\"\n",
    "        current = self.head\n",
    "        while current:\n",
    "            yield current.value\n",
    "            current = current.next\n",
    "\n",
    "    def display(self):\n",
    "        \"\"\"Afficher tous les hommes libres\"\"\"\n",
    "        print([x for x in self])\n"
   ]
  }
 ],
 "metadata": {
  "kernelspec": {
   "display_name": "Python 3",
   "language": "python",
   "name": "python3"
  },
  "language_info": {
   "codemirror_mode": {
    "name": "ipython",
    "version": 3
   },
   "file_extension": ".py",
   "mimetype": "text/x-python",
   "name": "python",
   "nbconvert_exporter": "python",
   "pygments_lexer": "ipython3",
   "version": "3.13.7"
  }
 },
 "nbformat": 4,
 "nbformat_minor": 5
}
