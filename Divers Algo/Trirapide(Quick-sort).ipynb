{
 "cells": [
  {
   "cell_type": "code",
   "execution_count": null,
   "id": "0d532f6f",
   "metadata": {},
   "outputs": [],
   "source": [
    "def quicksort(L):\n",
    "    if len(L) < 2:\n",
    "        return L\n",
    "\n",
    "    pivot = L[0]\n",
    "    left = []\n",
    "    right = []\n",
    "\n",
    "    for i in range(1, len(L)):  # on commence à 1 pour ignorer le pivot\n",
    "        if L[i] <= pivot:\n",
    "            left.append(L[i])\n",
    "        else:\n",
    "            right.append(L[i])\n",
    "\n",
    "    sorted_left = quicksort(left)\n",
    "    sorted_right = quicksort(right)\n",
    "\n",
    "    return sorted_left + [pivot] + sorted_right"
   ]
  }
 ],
 "metadata": {
  "language_info": {
   "name": "python"
  }
 },
 "nbformat": 4,
 "nbformat_minor": 5
}
