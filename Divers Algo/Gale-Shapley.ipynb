{
 "cells": [
  {
   "cell_type": "markdown",
   "id": "427a6926",
   "metadata": {},
   "source": [
    "n femmes et hommes ayant des préférences inscrites dans ManPref[m][i] i est la ième préférée de m et WomenPref[w][i]\n"
   ]
  },
  {
   "cell_type": "code",
   "execution_count": 3,
   "id": "6f39cea3",
   "metadata": {},
   "outputs": [],
   "source": [
    "ManPref= [[0,1,2],[1,0,2],[2,0,1]]\n",
    "WomenPref= [[0,2,1],[1,2,0],[1,2,0]]\n"
   ]
  },
  {
   "cell_type": "code",
   "execution_count": 5,
   "id": "5c386fe2",
   "metadata": {},
   "outputs": [],
   "source": [
    "def Gale_Shapley(ManPref,WomenPref):\n",
    "    n=len(ManPref)\n",
    "    #on va mettre les freemen dans une linked list pour pouvoir les selectionner, le supprimer ou ajouter un nouveau en temps constant \n",
    "    #mettre en place une list pour savoir à qui m a deja proposé : Next[m] qui a chaque m point l'indice de la prochaine fille a proposer : initialiser à 0 pour tous les hommes et on l'incremente à chaque proposition\n",
    "    #maintenir une list current pour savoir avec qui w est matché a chaque itération pour savoir si w est free et savoir qui elle match\n",
    "    # pour savoir qui elle prefere il faut a chauqe iteration aller dans la list WomanPref et cherhcer m et m' et comparer leur ranking, ca prendre O(n) or si on transforme Woman pref en rankingwomen[w][ranking] ou dans chque liste de women on a à l indice de chauqe homme son ranking : prepocessiong en O(n^2)\n",
    "\n",
    "    #il n y a pas de linked list natif en python il faut donc crrer une class on va deja essayer sans\n",
    "\n",
    "    freemen= list(range(n))\n",
    "    Nextwomen=[0 for i in range(n)] #indexé sur les hommes exemple indice 2 = homme 2 valeur indice de la futur fille a qu il va proposer\n",
    "    Current=[None for i in range(n)]# indexé sur les femmes\n",
    "    #modifier WomenPref en Ranking Women\n",
    "    WomenRank=WomenPref\n",
    "    for i in range(n):\n",
    "        for j in range(n):\n",
    "         WomenRank[i][WomenPref[i][j]]= j\n",
    "    while len(freemen)>0 :\n",
    "        for i in range(len(freemen)):\n",
    "            if Nextwomen[freemen[i]]<n: \n",
    "                man=freemen[i]\n",
    "                break \n",
    "        woman = ManPref[man][Nextwomen[man]]\n",
    "        if Current[woman]==None: \n",
    "            Current[woman]=man\n",
    "            Nextwomen[man]+=1\n",
    "            freemen.remove(man)\n",
    "        else: \n",
    "            man2=Current[woman]\n",
    "            if WomenRank[woman][man2]< WomenRank[woman][man]:\n",
    "                Current[woman]=man\n",
    "                Nextwomen[man]+=1\n",
    "                freemen.remove(man)\n",
    "    return Current \n",
    "\n",
    "\n",
    "\n",
    "\n",
    "\n"
   ]
  },
  {
   "cell_type": "code",
   "execution_count": 7,
   "id": "68d9f6c6",
   "metadata": {},
   "outputs": [],
   "source": [
    "ManPref = [[0,1,2],[2,0,1],[1,2,0]]\n",
    "WomenPref = [[2,1,0],[0,1,2],[1,0,2]]\n"
   ]
  },
  {
   "cell_type": "code",
   "execution_count": 9,
   "id": "e1f8cc2a",
   "metadata": {},
   "outputs": [],
   "source": [
    "ManPref = [[2,0,1],[0,1,2],[1,2,0]]\n",
    "WomenPref = [[1,0,2],[2,1,0],[0,2,1]]\n"
   ]
  },
  {
   "cell_type": "code",
   "execution_count": 10,
   "id": "474e9f95",
   "metadata": {},
   "outputs": [
    {
     "data": {
      "text/plain": [
       "[1, 2, 0]"
      ]
     },
     "execution_count": 10,
     "metadata": {},
     "output_type": "execute_result"
    }
   ],
   "source": [
    "Gale_Shapley(ManPref,WomenPref)"
   ]
  }
 ],
 "metadata": {
  "kernelspec": {
   "display_name": "Python 3",
   "language": "python",
   "name": "python3"
  },
  "language_info": {
   "codemirror_mode": {
    "name": "ipython",
    "version": 3
   },
   "file_extension": ".py",
   "mimetype": "text/x-python",
   "name": "python",
   "nbconvert_exporter": "python",
   "pygments_lexer": "ipython3",
   "version": "3.13.7"
  }
 },
 "nbformat": 4,
 "nbformat_minor": 5
}
