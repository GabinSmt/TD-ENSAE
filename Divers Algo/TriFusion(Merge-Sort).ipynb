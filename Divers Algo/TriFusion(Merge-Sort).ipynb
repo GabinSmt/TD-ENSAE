{
 "cells": [
  {
   "cell_type": "code",
   "execution_count": 10,
   "id": "4a06d8c2",
   "metadata": {},
   "outputs": [],
   "source": [
    "def merge_sort(L):\n",
    "    if len(L)<2:\n",
    "        return L\n",
    "    mid=len(L)//2 # partie inf, quotient de la division euclidienne \n",
    "    left=L[:mid]\n",
    "    right=L[mid:]\n",
    "    left_sorted= merge_sort(left)\n",
    "    right_sorted= merge_sort(right)\n",
    "    return fusion(left_sorted,right_sorted)\n",
    "\n",
    "def fusion(L,R):\n",
    "    result = []\n",
    "    i = j = 0\n",
    "    # Fusionner en temps linéaire\n",
    "    while i < len(L) and j < len(R):\n",
    "        if L[i] < R[j]:\n",
    "            result.append(L[i])\n",
    "            i += 1\n",
    "        else:\n",
    "            result.append(R[j])\n",
    "            j += 1\n",
    "    # Ajouter les éléments restants\n",
    "    result.extend(L[i:])\n",
    "    result.extend(R[j:])\n",
    "    return result\n",
    "\n"
   ]
  },
  {
   "cell_type": "code",
   "execution_count": 11,
   "id": "08badb4e",
   "metadata": {},
   "outputs": [
    {
     "data": {
      "text/plain": [
       "[1, 1, 7, 9, 9, 11, 16, 56, 98]"
      ]
     },
     "execution_count": 11,
     "metadata": {},
     "output_type": "execute_result"
    }
   ],
   "source": [
    "L=[1,7,9,16,1,9,56,98,11]\n",
    "merge_sort(L)"
   ]
  }
 ],
 "metadata": {
  "kernelspec": {
   "display_name": "Python 3",
   "language": "python",
   "name": "python3"
  },
  "language_info": {
   "codemirror_mode": {
    "name": "ipython",
    "version": 3
   },
   "file_extension": ".py",
   "mimetype": "text/x-python",
   "name": "python",
   "nbconvert_exporter": "python",
   "pygments_lexer": "ipython3",
   "version": "3.13.7"
  }
 },
 "nbformat": 4,
 "nbformat_minor": 5
}
